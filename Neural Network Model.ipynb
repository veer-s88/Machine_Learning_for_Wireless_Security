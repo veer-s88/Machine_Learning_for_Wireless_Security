{
 "cells": [
  {
   "cell_type": "code",
   "execution_count": 2,
   "id": "332e8553",
   "metadata": {},
   "outputs": [],
   "source": [
    "import numpy as np\n",
    "import pandas as pd\n",
    "import matplotlib.pyplot as plt\n",
    "import seaborn as sns\n",
    "\n",
    "%matplotlib inline"
   ]
  },
  {
   "cell_type": "code",
   "execution_count": 3,
   "id": "3287d21c",
   "metadata": {},
   "outputs": [],
   "source": [
    "from tensorflow.keras.models import Sequential\n",
    "from tensorflow.keras.layers import Dense"
   ]
  },
  {
   "cell_type": "code",
   "execution_count": 4,
   "id": "143a50c8",
   "metadata": {},
   "outputs": [],
   "source": [
    "dcf_sim = pd.read_csv('simulation_results.csv')\n",
    "dcf_sim_2 = pd.read_csv('simulation_results1.csv')\n",
    "dcf_sim_3 = pd.read_csv('simulation_results2.csv')\n",
    "\n",
    "dcf_rogue_1 = pd.read_csv('simulation_results_rogue_node1.csv')\n",
    "dcf_rogue_2 = pd.read_csv('simulation_results_rogue_node2.csv')\n",
    "dcf_rogue_3 = pd.read_csv('simulation_results_rogue_node3.csv')\n",
    "dcf_rogue_4 = pd.read_csv('simulation_results_rogue_node4.csv')\n",
    "dcf_rogue_5 = pd.read_csv('simulation_results_rogue_node5.csv')"
   ]
  },
  {
   "cell_type": "code",
   "execution_count": 5,
   "id": "02f393af",
   "metadata": {},
   "outputs": [],
   "source": [
    "dcf_sim.drop('Unnamed: 0', axis=1, inplace=True)\n",
    "dcf_sim_2.drop('Unnamed: 0', axis=1, inplace=True)\n",
    "dcf_sim_3.drop('Unnamed: 0', axis=1, inplace=True)\n",
    "\n",
    "dcf_rogue_1.drop('Unnamed: 0', axis=1, inplace=True)\n",
    "dcf_rogue_2.drop('Unnamed: 0', axis=1, inplace=True)\n",
    "dcf_rogue_3.drop('Unnamed: 0', axis=1, inplace=True)\n",
    "dcf_rogue_4.drop('Unnamed: 0', axis=1, inplace=True)\n",
    "dcf_rogue_5.drop('Unnamed: 0', axis=1, inplace=True)"
   ]
  },
  {
   "cell_type": "code",
   "execution_count": 6,
   "id": "ebfcebca",
   "metadata": {},
   "outputs": [],
   "source": [
    "dcf_sim['Label'] = 0\n",
    "dcf_sim_2['Label'] = 0\n",
    "dcf_sim_3['Label'] = 0\n",
    "\n",
    "dcf_rogue_1['Label'] = 1\n",
    "dcf_rogue_2['Label'] = 1\n",
    "dcf_rogue_3['Label'] = 1\n",
    "dcf_rogue_4['Label'] = 1\n",
    "dcf_rogue_5['Label'] = 1"
   ]
  },
  {
   "cell_type": "code",
   "execution_count": 7,
   "id": "e749b868",
   "metadata": {},
   "outputs": [
    {
     "data": {
      "text/html": [
       "<div>\n",
       "<style scoped>\n",
       "    .dataframe tbody tr th:only-of-type {\n",
       "        vertical-align: middle;\n",
       "    }\n",
       "\n",
       "    .dataframe tbody tr th {\n",
       "        vertical-align: top;\n",
       "    }\n",
       "\n",
       "    .dataframe thead th {\n",
       "        text-align: right;\n",
       "    }\n",
       "</style>\n",
       "<table border=\"1\" class=\"dataframe\">\n",
       "  <thead>\n",
       "    <tr style=\"text-align: right;\">\n",
       "      <th></th>\n",
       "      <th>index</th>\n",
       "      <th>number of nodes</th>\n",
       "      <th>collision probability</th>\n",
       "      <th>total throughput</th>\n",
       "      <th>average delay</th>\n",
       "      <th>simulation time</th>\n",
       "      <th>dropped packet</th>\n",
       "      <th>Label</th>\n",
       "    </tr>\n",
       "  </thead>\n",
       "  <tbody>\n",
       "    <tr>\n",
       "      <th>460</th>\n",
       "      <td>50</td>\n",
       "      <td>56</td>\n",
       "      <td>0.681999</td>\n",
       "      <td>1.660711e+07</td>\n",
       "      <td>0.056353</td>\n",
       "      <td>29.780829</td>\n",
       "      <td>2941.0</td>\n",
       "      <td>1</td>\n",
       "    </tr>\n",
       "    <tr>\n",
       "      <th>461</th>\n",
       "      <td>51</td>\n",
       "      <td>57</td>\n",
       "      <td>0.684166</td>\n",
       "      <td>1.652250e+07</td>\n",
       "      <td>0.058384</td>\n",
       "      <td>29.772801</td>\n",
       "      <td>3068.0</td>\n",
       "      <td>1</td>\n",
       "    </tr>\n",
       "    <tr>\n",
       "      <th>462</th>\n",
       "      <td>52</td>\n",
       "      <td>58</td>\n",
       "      <td>0.686504</td>\n",
       "      <td>1.649452e+07</td>\n",
       "      <td>0.059670</td>\n",
       "      <td>29.800602</td>\n",
       "      <td>3108.0</td>\n",
       "      <td>1</td>\n",
       "    </tr>\n",
       "    <tr>\n",
       "      <th>463</th>\n",
       "      <td>53</td>\n",
       "      <td>59</td>\n",
       "      <td>0.688645</td>\n",
       "      <td>1.639478e+07</td>\n",
       "      <td>0.059487</td>\n",
       "      <td>29.697597</td>\n",
       "      <td>3126.0</td>\n",
       "      <td>1</td>\n",
       "    </tr>\n",
       "    <tr>\n",
       "      <th>464</th>\n",
       "      <td>54</td>\n",
       "      <td>60</td>\n",
       "      <td>0.690916</td>\n",
       "      <td>1.630497e+07</td>\n",
       "      <td>0.061609</td>\n",
       "      <td>29.792241</td>\n",
       "      <td>3183.0</td>\n",
       "      <td>1</td>\n",
       "    </tr>\n",
       "  </tbody>\n",
       "</table>\n",
       "</div>"
      ],
      "text/plain": [
       "     index  number of nodes  collision probability  total throughput  \\\n",
       "460     50               56               0.681999      1.660711e+07   \n",
       "461     51               57               0.684166      1.652250e+07   \n",
       "462     52               58               0.686504      1.649452e+07   \n",
       "463     53               59               0.688645      1.639478e+07   \n",
       "464     54               60               0.690916      1.630497e+07   \n",
       "\n",
       "     average delay  simulation time  dropped packet  Label  \n",
       "460       0.056353        29.780829          2941.0      1  \n",
       "461       0.058384        29.772801          3068.0      1  \n",
       "462       0.059670        29.800602          3108.0      1  \n",
       "463       0.059487        29.697597          3126.0      1  \n",
       "464       0.061609        29.792241          3183.0      1  "
      ]
     },
     "execution_count": 7,
     "metadata": {},
     "output_type": "execute_result"
    }
   ],
   "source": [
    "joined_table = pd.concat([dcf_sim, dcf_sim_2, dcf_sim_3, dcf_rogue_1, dcf_rogue_2, dcf_rogue_3, dcf_rogue_4, dcf_rogue_5])\n",
    "joined_table.reset_index(inplace=True)\n",
    "joined_table.tail()"
   ]
  },
  {
   "cell_type": "code",
   "execution_count": 8,
   "id": "c502777f",
   "metadata": {},
   "outputs": [],
   "source": [
    "joined_table.drop('index', inplace=True, axis=1)"
   ]
  },
  {
   "cell_type": "code",
   "execution_count": 9,
   "id": "8e7aa216",
   "metadata": {},
   "outputs": [],
   "source": [
    "feature_cols = ['number of nodes', 'collision probability', 'total throughput', 'average delay']"
   ]
  },
  {
   "cell_type": "code",
   "execution_count": 10,
   "id": "e3ceea8c",
   "metadata": {},
   "outputs": [],
   "source": [
    "X = joined_table[feature_cols]\n",
    "y = joined_table['Label']"
   ]
  },
  {
   "cell_type": "code",
   "execution_count": 176,
   "id": "9b0e1cb5",
   "metadata": {},
   "outputs": [],
   "source": [
    "from sklearn.model_selection import train_test_split\n",
    "\n",
    "X_train, X_test, y_train, y_test = train_test_split(X, y, test_size=0.3)"
   ]
  },
  {
   "cell_type": "code",
   "execution_count": 177,
   "id": "89c3e630",
   "metadata": {},
   "outputs": [],
   "source": [
    "from sklearn.preprocessing import StandardScaler\n",
    "\n",
    "scl_x = StandardScaler()"
   ]
  },
  {
   "cell_type": "code",
   "execution_count": 178,
   "id": "30c27da6",
   "metadata": {},
   "outputs": [],
   "source": [
    "X_train = scl_x.fit_transform(X_train)\n",
    "X_test = scl_x.transform(X_test)"
   ]
  },
  {
   "cell_type": "code",
   "execution_count": 179,
   "id": "9c52d0dd",
   "metadata": {},
   "outputs": [],
   "source": [
    "model = Sequential()\n",
    "model.add(Dense(12, input_dim=4, activation='relu'))\n",
    "model.add(Dense(8, activation='relu'))\n",
    "model.add(Dense(1, activation='sigmoid'))"
   ]
  },
  {
   "cell_type": "code",
   "execution_count": 180,
   "id": "3e1af0b8",
   "metadata": {},
   "outputs": [],
   "source": [
    "import tensorflow.keras.backend as K\n",
    "\n",
    "def recall_m(y_true, y_pred):\n",
    "        true_positives = K.sum(K.round(K.clip(y_true * y_pred, 0, 1)))\n",
    "        possible_positives = K.sum(K.round(K.clip(y_true, 0, 1)))\n",
    "        recall = true_positives / (possible_positives + K.epsilon())\n",
    "        return recall\n",
    "\n",
    "def precision_m(y_true, y_pred):\n",
    "        true_positives = K.sum(K.round(K.clip(y_true * y_pred, 0, 1)))\n",
    "        predicted_positives = K.sum(K.round(K.clip(y_pred, 0, 1)))\n",
    "        precision = true_positives / (predicted_positives + K.epsilon())\n",
    "        return precision"
   ]
  },
  {
   "cell_type": "code",
   "execution_count": 181,
   "id": "4d94b9f2",
   "metadata": {},
   "outputs": [],
   "source": [
    "model.compile(loss='binary_crossentropy', optimizer='adam', metrics=['accuracy', recall_m, precision_m])"
   ]
  },
  {
   "cell_type": "code",
   "execution_count": 182,
   "id": "1b9e08b4",
   "metadata": {},
   "outputs": [
    {
     "name": "stdout",
     "output_type": "stream",
     "text": [
      "Epoch 1/100\n",
      "33/33 [==============================] - 2s 15ms/step - loss: 0.6914 - accuracy: 0.6246 - recall_m: 0.9939 - precision_m: 0.6150 - val_loss: 0.6989 - val_accuracy: 0.6143 - val_recall_m: 1.0000 - val_precision_m: 0.6143\n",
      "Epoch 2/100\n",
      "33/33 [==============================] - 0s 4ms/step - loss: 0.6506 - accuracy: 0.6123 - recall_m: 1.0000 - precision_m: 0.6121 - val_loss: 0.6655 - val_accuracy: 0.6143 - val_recall_m: 1.0000 - val_precision_m: 0.6143\n",
      "Epoch 3/100\n",
      "33/33 [==============================] - 0s 4ms/step - loss: 0.6187 - accuracy: 0.6123 - recall_m: 1.0000 - precision_m: 0.6182 - val_loss: 0.6278 - val_accuracy: 0.6143 - val_recall_m: 1.0000 - val_precision_m: 0.6143\n",
      "Epoch 4/100\n",
      "33/33 [==============================] - 0s 4ms/step - loss: 0.5921 - accuracy: 0.6123 - recall_m: 1.0000 - precision_m: 0.6121 - val_loss: 0.6073 - val_accuracy: 0.6143 - val_recall_m: 1.0000 - val_precision_m: 0.6143\n",
      "Epoch 5/100\n",
      "33/33 [==============================] - 0s 4ms/step - loss: 0.5737 - accuracy: 0.6123 - recall_m: 1.0000 - precision_m: 0.6091 - val_loss: 0.5888 - val_accuracy: 0.6143 - val_recall_m: 1.0000 - val_precision_m: 0.6143\n",
      "Epoch 6/100\n",
      "33/33 [==============================] - 0s 4ms/step - loss: 0.5567 - accuracy: 0.6123 - recall_m: 1.0000 - precision_m: 0.6091 - val_loss: 0.5643 - val_accuracy: 0.6143 - val_recall_m: 1.0000 - val_precision_m: 0.6143\n",
      "Epoch 7/100\n",
      "33/33 [==============================] - 0s 4ms/step - loss: 0.5362 - accuracy: 0.6277 - recall_m: 1.0000 - precision_m: 0.6249 - val_loss: 0.5467 - val_accuracy: 0.6214 - val_recall_m: 1.0000 - val_precision_m: 0.6190\n",
      "Epoch 8/100\n",
      "33/33 [==============================] - 0s 4ms/step - loss: 0.5219 - accuracy: 0.6585 - recall_m: 1.0000 - precision_m: 0.6460 - val_loss: 0.5277 - val_accuracy: 0.6429 - val_recall_m: 1.0000 - val_precision_m: 0.6333\n",
      "Epoch 9/100\n",
      "33/33 [==============================] - 0s 4ms/step - loss: 0.5057 - accuracy: 0.6646 - recall_m: 1.0000 - precision_m: 0.6502 - val_loss: 0.5106 - val_accuracy: 0.6429 - val_recall_m: 1.0000 - val_precision_m: 0.6333\n",
      "Epoch 10/100\n",
      "33/33 [==============================] - 0s 4ms/step - loss: 0.4886 - accuracy: 0.6831 - recall_m: 1.0000 - precision_m: 0.6610 - val_loss: 0.4931 - val_accuracy: 0.6571 - val_recall_m: 1.0000 - val_precision_m: 0.6405\n",
      "Epoch 11/100\n",
      "33/33 [==============================] - 0s 4ms/step - loss: 0.4736 - accuracy: 0.6923 - recall_m: 0.9962 - precision_m: 0.6661 - val_loss: 0.4762 - val_accuracy: 0.6857 - val_recall_m: 0.9881 - val_precision_m: 0.6607\n",
      "Epoch 12/100\n",
      "33/33 [==============================] - 0s 4ms/step - loss: 0.4581 - accuracy: 0.7231 - recall_m: 0.9490 - precision_m: 0.7077 - val_loss: 0.4575 - val_accuracy: 0.7429 - val_recall_m: 0.9452 - val_precision_m: 0.7238\n",
      "Epoch 13/100\n",
      "33/33 [==============================] - 0s 4ms/step - loss: 0.4409 - accuracy: 0.7538 - recall_m: 0.9482 - precision_m: 0.7296 - val_loss: 0.4407 - val_accuracy: 0.7571 - val_recall_m: 0.9332 - val_precision_m: 0.7409\n",
      "Epoch 14/100\n",
      "33/33 [==============================] - 0s 4ms/step - loss: 0.4263 - accuracy: 0.8646 - recall_m: 0.9010 - precision_m: 0.8843 - val_loss: 0.4267 - val_accuracy: 0.8000 - val_recall_m: 0.8365 - val_precision_m: 0.8425\n",
      "Epoch 15/100\n",
      "33/33 [==============================] - 0s 4ms/step - loss: 0.4114 - accuracy: 0.8831 - recall_m: 0.9003 - precision_m: 0.8961 - val_loss: 0.4126 - val_accuracy: 0.9000 - val_recall_m: 0.9094 - val_precision_m: 0.9345\n",
      "Epoch 16/100\n",
      "33/33 [==============================] - 0s 4ms/step - loss: 0.3966 - accuracy: 0.9323 - recall_m: 0.9044 - precision_m: 0.9811 - val_loss: 0.4004 - val_accuracy: 0.9000 - val_recall_m: 0.8365 - val_precision_m: 1.0000\n",
      "Epoch 17/100\n",
      "33/33 [==============================] - 0s 4ms/step - loss: 0.3829 - accuracy: 0.9385 - recall_m: 0.9161 - precision_m: 0.9889 - val_loss: 0.3871 - val_accuracy: 0.9286 - val_recall_m: 0.9094 - val_precision_m: 0.9821\n",
      "Epoch 18/100\n",
      "33/33 [==============================] - 0s 4ms/step - loss: 0.3695 - accuracy: 0.9446 - recall_m: 0.9036 - precision_m: 1.0000 - val_loss: 0.3750 - val_accuracy: 0.9286 - val_recall_m: 0.8872 - val_precision_m: 1.0000\n",
      "Epoch 19/100\n",
      "33/33 [==============================] - 0s 4ms/step - loss: 0.3542 - accuracy: 0.9446 - recall_m: 0.8995 - precision_m: 1.0000 - val_loss: 0.3586 - val_accuracy: 0.9143 - val_recall_m: 0.8627 - val_precision_m: 1.0000\n",
      "Epoch 20/100\n",
      "33/33 [==============================] - 0s 4ms/step - loss: 0.3389 - accuracy: 0.9446 - recall_m: 0.9087 - precision_m: 1.0000 - val_loss: 0.3427 - val_accuracy: 0.9143 - val_recall_m: 0.8627 - val_precision_m: 1.0000\n",
      "Epoch 21/100\n",
      "33/33 [==============================] - 0s 4ms/step - loss: 0.3251 - accuracy: 0.9508 - recall_m: 0.9194 - precision_m: 1.0000 - val_loss: 0.3309 - val_accuracy: 0.9286 - val_recall_m: 0.8913 - val_precision_m: 1.0000\n",
      "Epoch 22/100\n",
      "33/33 [==============================] - 0s 4ms/step - loss: 0.3112 - accuracy: 0.9446 - recall_m: 0.9193 - precision_m: 1.0000 - val_loss: 0.3177 - val_accuracy: 0.9357 - val_recall_m: 0.9015 - val_precision_m: 1.0000\n",
      "Epoch 23/100\n",
      "33/33 [==============================] - 0s 4ms/step - loss: 0.2991 - accuracy: 0.9446 - recall_m: 0.9097 - precision_m: 1.0000 - val_loss: 0.3065 - val_accuracy: 0.9214 - val_recall_m: 0.8770 - val_precision_m: 1.0000\n",
      "Epoch 24/100\n",
      "33/33 [==============================] - 0s 4ms/step - loss: 0.2873 - accuracy: 0.9446 - recall_m: 0.9073 - precision_m: 1.0000 - val_loss: 0.2936 - val_accuracy: 0.9429 - val_recall_m: 0.9134 - val_precision_m: 1.0000\n",
      "Epoch 25/100\n",
      "33/33 [==============================] - 0s 4ms/step - loss: 0.2757 - accuracy: 0.9446 - recall_m: 0.9116 - precision_m: 1.0000 - val_loss: 0.2834 - val_accuracy: 0.9429 - val_recall_m: 0.9134 - val_precision_m: 1.0000\n",
      "Epoch 26/100\n",
      "33/33 [==============================] - 0s 4ms/step - loss: 0.2679 - accuracy: 0.9538 - recall_m: 0.9282 - precision_m: 0.9949 - val_loss: 0.2807 - val_accuracy: 0.9143 - val_recall_m: 0.8627 - val_precision_m: 1.0000\n",
      "Epoch 27/100\n",
      "33/33 [==============================] - 0s 4ms/step - loss: 0.2573 - accuracy: 0.9538 - recall_m: 0.9330 - precision_m: 1.0000 - val_loss: 0.2645 - val_accuracy: 0.9643 - val_recall_m: 0.9452 - val_precision_m: 1.0000\n",
      "Epoch 28/100\n",
      "33/33 [==============================] - 0s 4ms/step - loss: 0.2504 - accuracy: 0.9446 - recall_m: 0.9053 - precision_m: 1.0000 - val_loss: 0.2553 - val_accuracy: 0.9429 - val_recall_m: 0.9134 - val_precision_m: 1.0000\n",
      "Epoch 29/100\n",
      "33/33 [==============================] - 0s 4ms/step - loss: 0.2414 - accuracy: 0.9538 - recall_m: 0.9300 - precision_m: 1.0000 - val_loss: 0.2479 - val_accuracy: 0.9500 - val_recall_m: 0.9213 - val_precision_m: 1.0000\n",
      "Epoch 30/100\n",
      "33/33 [==============================] - 0s 4ms/step - loss: 0.2315 - accuracy: 0.9538 - recall_m: 0.9248 - precision_m: 1.0000 - val_loss: 0.2416 - val_accuracy: 0.9429 - val_recall_m: 0.9134 - val_precision_m: 1.0000\n",
      "Epoch 31/100\n",
      "33/33 [==============================] - 0s 4ms/step - loss: 0.2222 - accuracy: 0.9508 - recall_m: 0.9169 - precision_m: 1.0000 - val_loss: 0.2282 - val_accuracy: 0.9429 - val_recall_m: 0.9134 - val_precision_m: 1.0000\n",
      "Epoch 32/100\n",
      "33/33 [==============================] - 0s 4ms/step - loss: 0.2139 - accuracy: 0.9600 - recall_m: 0.9284 - precision_m: 1.0000 - val_loss: 0.2189 - val_accuracy: 0.9643 - val_recall_m: 0.9452 - val_precision_m: 1.0000\n",
      "Epoch 33/100\n",
      "33/33 [==============================] - 0s 4ms/step - loss: 0.2090 - accuracy: 0.9631 - recall_m: 0.9451 - precision_m: 1.0000 - val_loss: 0.2186 - val_accuracy: 0.9357 - val_recall_m: 0.9015 - val_precision_m: 1.0000\n",
      "Epoch 34/100\n",
      "33/33 [==============================] - 0s 4ms/step - loss: 0.2024 - accuracy: 0.9569 - recall_m: 0.9346 - precision_m: 1.0000 - val_loss: 0.2064 - val_accuracy: 0.9714 - val_recall_m: 0.9571 - val_precision_m: 1.0000\n",
      "Epoch 35/100\n",
      "33/33 [==============================] - 0s 4ms/step - loss: 0.1947 - accuracy: 0.9600 - recall_m: 0.9343 - precision_m: 1.0000 - val_loss: 0.2014 - val_accuracy: 0.9714 - val_recall_m: 0.9571 - val_precision_m: 1.0000\n",
      "Epoch 36/100\n"
     ]
    },
    {
     "name": "stdout",
     "output_type": "stream",
     "text": [
      "33/33 [==============================] - 0s 4ms/step - loss: 0.1903 - accuracy: 0.9538 - recall_m: 0.9273 - precision_m: 1.0000 - val_loss: 0.1970 - val_accuracy: 0.9714 - val_recall_m: 0.9571 - val_precision_m: 1.0000\n",
      "Epoch 37/100\n",
      "33/33 [==============================] - 0s 4ms/step - loss: 0.1845 - accuracy: 0.9600 - recall_m: 0.9337 - precision_m: 1.0000 - val_loss: 0.1941 - val_accuracy: 0.9571 - val_recall_m: 0.9332 - val_precision_m: 1.0000\n",
      "Epoch 38/100\n",
      "33/33 [==============================] - 0s 4ms/step - loss: 0.1800 - accuracy: 0.9662 - recall_m: 0.9508 - precision_m: 1.0000 - val_loss: 0.1906 - val_accuracy: 0.9571 - val_recall_m: 0.9332 - val_precision_m: 1.0000\n",
      "Epoch 39/100\n",
      "33/33 [==============================] - 0s 4ms/step - loss: 0.1736 - accuracy: 0.9569 - recall_m: 0.9253 - precision_m: 1.0000 - val_loss: 0.1832 - val_accuracy: 0.9714 - val_recall_m: 0.9571 - val_precision_m: 1.0000\n",
      "Epoch 40/100\n",
      "33/33 [==============================] - 0s 4ms/step - loss: 0.1701 - accuracy: 0.9631 - recall_m: 0.9403 - precision_m: 1.0000 - val_loss: 0.1823 - val_accuracy: 0.9643 - val_recall_m: 0.9452 - val_precision_m: 1.0000\n",
      "Epoch 41/100\n",
      "33/33 [==============================] - 0s 4ms/step - loss: 0.1665 - accuracy: 0.9723 - recall_m: 0.9572 - precision_m: 1.0000 - val_loss: 0.1829 - val_accuracy: 0.9357 - val_recall_m: 0.9015 - val_precision_m: 1.0000\n",
      "Epoch 42/100\n",
      "33/33 [==============================] - 0s 4ms/step - loss: 0.1622 - accuracy: 0.9538 - recall_m: 0.9166 - precision_m: 1.0000 - val_loss: 0.1710 - val_accuracy: 0.9714 - val_recall_m: 0.9571 - val_precision_m: 1.0000\n",
      "Epoch 43/100\n",
      "33/33 [==============================] - 0s 5ms/step - loss: 0.1597 - accuracy: 0.9600 - recall_m: 0.9355 - precision_m: 1.0000 - val_loss: 0.1674 - val_accuracy: 0.9714 - val_recall_m: 0.9571 - val_precision_m: 1.0000\n",
      "Epoch 44/100\n",
      "33/33 [==============================] - 0s 4ms/step - loss: 0.1566 - accuracy: 0.9754 - recall_m: 0.9589 - precision_m: 0.9957 - val_loss: 0.1668 - val_accuracy: 0.9714 - val_recall_m: 0.9571 - val_precision_m: 1.0000\n",
      "Epoch 45/100\n",
      "33/33 [==============================] - 0s 4ms/step - loss: 0.1494 - accuracy: 0.9600 - recall_m: 0.9303 - precision_m: 1.0000 - val_loss: 0.1604 - val_accuracy: 0.9714 - val_recall_m: 0.9571 - val_precision_m: 1.0000\n",
      "Epoch 46/100\n",
      "33/33 [==============================] - 0s 4ms/step - loss: 0.1454 - accuracy: 0.9600 - recall_m: 0.9423 - precision_m: 1.0000 - val_loss: 0.1576 - val_accuracy: 0.9714 - val_recall_m: 0.9571 - val_precision_m: 1.0000\n",
      "Epoch 47/100\n",
      "33/33 [==============================] - 0s 4ms/step - loss: 0.1432 - accuracy: 0.9662 - recall_m: 0.9527 - precision_m: 1.0000 - val_loss: 0.1554 - val_accuracy: 0.9714 - val_recall_m: 0.9571 - val_precision_m: 1.0000\n",
      "Epoch 48/100\n",
      "33/33 [==============================] - 0s 4ms/step - loss: 0.1386 - accuracy: 0.9662 - recall_m: 0.9495 - precision_m: 1.0000 - val_loss: 0.1544 - val_accuracy: 0.9714 - val_recall_m: 0.9571 - val_precision_m: 1.0000\n",
      "Epoch 49/100\n",
      "33/33 [==============================] - 0s 4ms/step - loss: 0.1354 - accuracy: 0.9631 - recall_m: 0.9400 - precision_m: 1.0000 - val_loss: 0.1510 - val_accuracy: 0.9714 - val_recall_m: 0.9571 - val_precision_m: 1.0000\n",
      "Epoch 50/100\n",
      "33/33 [==============================] - 0s 4ms/step - loss: 0.1324 - accuracy: 0.9569 - recall_m: 0.9271 - precision_m: 1.0000 - val_loss: 0.1469 - val_accuracy: 0.9714 - val_recall_m: 0.9571 - val_precision_m: 1.0000\n",
      "Epoch 51/100\n",
      "33/33 [==============================] - 0s 6ms/step - loss: 0.1355 - accuracy: 0.9569 - recall_m: 0.9321 - precision_m: 1.0000 - val_loss: 0.1548 - val_accuracy: 0.9929 - val_recall_m: 0.9881 - val_precision_m: 1.0000\n",
      "Epoch 52/100\n",
      "33/33 [==============================] - 0s 5ms/step - loss: 0.1307 - accuracy: 0.9723 - recall_m: 0.9643 - precision_m: 0.9902 - val_loss: 0.1509 - val_accuracy: 0.9571 - val_recall_m: 0.9372 - val_precision_m: 1.0000\n",
      "Epoch 53/100\n",
      "33/33 [==============================] - 0s 4ms/step - loss: 0.1268 - accuracy: 0.9785 - recall_m: 0.9446 - precision_m: 0.9697 - val_loss: 0.1440 - val_accuracy: 0.9571 - val_recall_m: 0.9372 - val_precision_m: 1.0000\n",
      "Epoch 54/100\n",
      "33/33 [==============================] - 0s 4ms/step - loss: 0.1236 - accuracy: 0.9662 - recall_m: 0.9407 - precision_m: 1.0000 - val_loss: 0.1393 - val_accuracy: 0.9571 - val_recall_m: 0.9372 - val_precision_m: 1.0000\n",
      "Epoch 55/100\n",
      "33/33 [==============================] - 0s 4ms/step - loss: 0.1193 - accuracy: 0.9600 - recall_m: 0.9346 - precision_m: 1.0000 - val_loss: 0.1357 - val_accuracy: 0.9786 - val_recall_m: 0.9690 - val_precision_m: 1.0000\n",
      "Epoch 56/100\n",
      "33/33 [==============================] - 0s 4ms/step - loss: 0.1181 - accuracy: 0.9662 - recall_m: 0.9457 - precision_m: 1.0000 - val_loss: 0.1361 - val_accuracy: 0.9786 - val_recall_m: 0.9690 - val_precision_m: 1.0000\n",
      "Epoch 57/100\n",
      "33/33 [==============================] - 0s 4ms/step - loss: 0.1155 - accuracy: 0.9692 - recall_m: 0.9472 - precision_m: 1.0000 - val_loss: 0.1354 - val_accuracy: 0.9857 - val_recall_m: 0.9779 - val_precision_m: 1.0000\n",
      "Epoch 58/100\n",
      "33/33 [==============================] - 0s 4ms/step - loss: 0.1170 - accuracy: 0.9662 - recall_m: 0.9501 - precision_m: 0.9949 - val_loss: 0.1350 - val_accuracy: 0.9714 - val_recall_m: 0.9571 - val_precision_m: 1.0000\n",
      "Epoch 59/100\n",
      "33/33 [==============================] - 0s 4ms/step - loss: 0.1147 - accuracy: 0.9631 - recall_m: 0.9497 - precision_m: 0.9949 - val_loss: 0.1285 - val_accuracy: 0.9857 - val_recall_m: 0.9779 - val_precision_m: 1.0000\n",
      "Epoch 60/100\n",
      "33/33 [==============================] - 0s 4ms/step - loss: 0.1102 - accuracy: 0.9785 - recall_m: 0.9679 - precision_m: 1.0000 - val_loss: 0.1305 - val_accuracy: 0.9571 - val_recall_m: 0.9372 - val_precision_m: 1.0000\n",
      "Epoch 61/100\n",
      "33/33 [==============================] - 0s 4ms/step - loss: 0.1084 - accuracy: 0.9631 - recall_m: 0.9483 - precision_m: 1.0000 - val_loss: 0.1236 - val_accuracy: 0.9714 - val_recall_m: 0.9571 - val_precision_m: 1.0000\n",
      "Epoch 62/100\n",
      "33/33 [==============================] - 0s 4ms/step - loss: 0.1060 - accuracy: 0.9662 - recall_m: 0.9407 - precision_m: 1.0000 - val_loss: 0.1222 - val_accuracy: 0.9714 - val_recall_m: 0.9571 - val_precision_m: 1.0000\n",
      "Epoch 63/100\n",
      "33/33 [==============================] - 0s 4ms/step - loss: 0.1049 - accuracy: 0.9692 - recall_m: 0.9562 - precision_m: 1.0000 - val_loss: 0.1203 - val_accuracy: 0.9643 - val_recall_m: 0.9452 - val_precision_m: 1.0000\n",
      "Epoch 64/100\n",
      "33/33 [==============================] - 0s 5ms/step - loss: 0.1052 - accuracy: 0.9631 - recall_m: 0.9451 - precision_m: 0.9957 - val_loss: 0.1306 - val_accuracy: 0.9643 - val_recall_m: 0.9881 - val_precision_m: 0.9580\n",
      "Epoch 65/100\n",
      "33/33 [==============================] - 0s 4ms/step - loss: 0.1057 - accuracy: 0.9692 - recall_m: 0.9541 - precision_m: 1.0000 - val_loss: 0.1221 - val_accuracy: 0.9857 - val_recall_m: 0.9779 - val_precision_m: 1.0000\n",
      "Epoch 66/100\n",
      "33/33 [==============================] - 0s 4ms/step - loss: 0.0986 - accuracy: 0.9723 - recall_m: 0.9709 - precision_m: 0.9838 - val_loss: 0.1176 - val_accuracy: 0.9643 - val_recall_m: 0.9452 - val_precision_m: 1.0000\n",
      "Epoch 67/100\n",
      "33/33 [==============================] - 0s 4ms/step - loss: 0.0984 - accuracy: 0.9631 - recall_m: 0.9459 - precision_m: 1.0000 - val_loss: 0.1156 - val_accuracy: 0.9571 - val_recall_m: 0.9372 - val_precision_m: 1.0000\n",
      "Epoch 68/100\n",
      "33/33 [==============================] - 0s 4ms/step - loss: 0.0971 - accuracy: 0.9692 - recall_m: 0.9569 - precision_m: 1.0000 - val_loss: 0.1136 - val_accuracy: 0.9643 - val_recall_m: 0.9452 - val_precision_m: 1.0000\n",
      "Epoch 69/100\n",
      "33/33 [==============================] - 0s 4ms/step - loss: 0.0966 - accuracy: 0.9692 - recall_m: 0.9654 - precision_m: 0.9794 - val_loss: 0.1202 - val_accuracy: 0.9571 - val_recall_m: 0.9372 - val_precision_m: 1.0000\n",
      "Epoch 70/100\n",
      "33/33 [==============================] - 0s 4ms/step - loss: 0.0949 - accuracy: 0.9754 - recall_m: 0.9752 - precision_m: 0.9798 - val_loss: 0.1095 - val_accuracy: 0.9643 - val_recall_m: 0.9452 - val_precision_m: 1.0000\n",
      "Epoch 71/100\n"
     ]
    },
    {
     "name": "stdout",
     "output_type": "stream",
     "text": [
      "33/33 [==============================] - 0s 4ms/step - loss: 0.0944 - accuracy: 0.9723 - recall_m: 0.9591 - precision_m: 1.0000 - val_loss: 0.1115 - val_accuracy: 0.9571 - val_recall_m: 0.9372 - val_precision_m: 1.0000\n",
      "Epoch 72/100\n",
      "33/33 [==============================] - 0s 4ms/step - loss: 0.0914 - accuracy: 0.9692 - recall_m: 0.9470 - precision_m: 1.0000 - val_loss: 0.1108 - val_accuracy: 0.9571 - val_recall_m: 0.9372 - val_precision_m: 1.0000\n",
      "Epoch 73/100\n",
      "33/33 [==============================] - 0s 4ms/step - loss: 0.0887 - accuracy: 0.9785 - recall_m: 0.9746 - precision_m: 0.9962 - val_loss: 0.1111 - val_accuracy: 0.9571 - val_recall_m: 0.9372 - val_precision_m: 1.0000\n",
      "Epoch 74/100\n",
      "33/33 [==============================] - 0s 4ms/step - loss: 0.0906 - accuracy: 0.9723 - recall_m: 0.9565 - precision_m: 1.0000 - val_loss: 0.1065 - val_accuracy: 0.9571 - val_recall_m: 0.9372 - val_precision_m: 1.0000\n",
      "Epoch 75/100\n",
      "33/33 [==============================] - 0s 4ms/step - loss: 0.0846 - accuracy: 0.9754 - recall_m: 0.9644 - precision_m: 1.0000 - val_loss: 0.1135 - val_accuracy: 0.9786 - val_recall_m: 0.9881 - val_precision_m: 0.9819\n",
      "Epoch 76/100\n",
      "33/33 [==============================] - 0s 4ms/step - loss: 0.0848 - accuracy: 0.9785 - recall_m: 0.9676 - precision_m: 1.0000 - val_loss: 0.1063 - val_accuracy: 0.9786 - val_recall_m: 0.9660 - val_precision_m: 1.0000\n",
      "Epoch 77/100\n",
      "33/33 [==============================] - 0s 4ms/step - loss: 0.0905 - accuracy: 0.9692 - recall_m: 0.9595 - precision_m: 0.9906 - val_loss: 0.1205 - val_accuracy: 0.9429 - val_recall_m: 1.0000 - val_precision_m: 0.9204\n",
      "Epoch 78/100\n",
      "33/33 [==============================] - 0s 4ms/step - loss: 0.0844 - accuracy: 0.9785 - recall_m: 0.9658 - precision_m: 1.0000 - val_loss: 0.1060 - val_accuracy: 0.9929 - val_recall_m: 0.9881 - val_precision_m: 1.0000\n",
      "Epoch 79/100\n",
      "33/33 [==============================] - 0s 4ms/step - loss: 0.0816 - accuracy: 0.9754 - recall_m: 0.9623 - precision_m: 0.9939 - val_loss: 0.1006 - val_accuracy: 0.9786 - val_recall_m: 0.9660 - val_precision_m: 1.0000\n",
      "Epoch 80/100\n",
      "33/33 [==============================] - 0s 4ms/step - loss: 0.0852 - accuracy: 0.9600 - recall_m: 0.9560 - precision_m: 0.9753 - val_loss: 0.1086 - val_accuracy: 0.9571 - val_recall_m: 0.9372 - val_precision_m: 1.0000\n",
      "Epoch 81/100\n",
      "33/33 [==============================] - 0s 4ms/step - loss: 0.0810 - accuracy: 0.9754 - recall_m: 0.9555 - precision_m: 1.0000 - val_loss: 0.1008 - val_accuracy: 0.9786 - val_recall_m: 0.9660 - val_precision_m: 1.0000\n",
      "Epoch 82/100\n",
      "33/33 [==============================] - 0s 4ms/step - loss: 0.0792 - accuracy: 0.9815 - recall_m: 0.9736 - precision_m: 1.0000 - val_loss: 0.0984 - val_accuracy: 0.9643 - val_recall_m: 0.9452 - val_precision_m: 1.0000\n",
      "Epoch 83/100\n",
      "33/33 [==============================] - 0s 4ms/step - loss: 0.0793 - accuracy: 0.9754 - recall_m: 0.9647 - precision_m: 1.0000 - val_loss: 0.1053 - val_accuracy: 0.9571 - val_recall_m: 0.9372 - val_precision_m: 1.0000\n",
      "Epoch 84/100\n",
      "33/33 [==============================] - 0s 4ms/step - loss: 0.0771 - accuracy: 0.9631 - recall_m: 0.9664 - precision_m: 0.9818 - val_loss: 0.1024 - val_accuracy: 0.9857 - val_recall_m: 0.9881 - val_precision_m: 0.9898\n",
      "Epoch 85/100\n",
      "33/33 [==============================] - 0s 4ms/step - loss: 0.0751 - accuracy: 0.9754 - recall_m: 0.9515 - precision_m: 1.0000 - val_loss: 0.0967 - val_accuracy: 0.9571 - val_recall_m: 0.9372 - val_precision_m: 1.0000\n",
      "Epoch 86/100\n",
      "33/33 [==============================] - 0s 4ms/step - loss: 0.0777 - accuracy: 0.9754 - recall_m: 0.9651 - precision_m: 0.9949 - val_loss: 0.1004 - val_accuracy: 0.9786 - val_recall_m: 0.9881 - val_precision_m: 0.9819\n",
      "Epoch 87/100\n",
      "33/33 [==============================] - 0s 4ms/step - loss: 0.0774 - accuracy: 0.9754 - recall_m: 0.9731 - precision_m: 0.9889 - val_loss: 0.0975 - val_accuracy: 0.9571 - val_recall_m: 0.9372 - val_precision_m: 1.0000\n",
      "Epoch 88/100\n",
      "33/33 [==============================] - 0s 4ms/step - loss: 0.0784 - accuracy: 0.9723 - recall_m: 0.9815 - precision_m: 0.9822 - val_loss: 0.1382 - val_accuracy: 0.9286 - val_recall_m: 0.8889 - val_precision_m: 1.0000\n",
      "Epoch 89/100\n",
      "33/33 [==============================] - 0s 4ms/step - loss: 0.0870 - accuracy: 0.9723 - recall_m: 0.9540 - precision_m: 1.0000 - val_loss: 0.0944 - val_accuracy: 0.9786 - val_recall_m: 0.9660 - val_precision_m: 1.0000\n",
      "Epoch 90/100\n",
      "33/33 [==============================] - 0s 4ms/step - loss: 0.0705 - accuracy: 0.9815 - recall_m: 0.9709 - precision_m: 1.0000 - val_loss: 0.1066 - val_accuracy: 0.9571 - val_recall_m: 0.9372 - val_precision_m: 1.0000\n",
      "Epoch 91/100\n",
      "33/33 [==============================] - 0s 4ms/step - loss: 0.0764 - accuracy: 0.9723 - recall_m: 0.9658 - precision_m: 0.9962 - val_loss: 0.1120 - val_accuracy: 0.9429 - val_recall_m: 1.0000 - val_precision_m: 0.9204\n",
      "Epoch 92/100\n",
      "33/33 [==============================] - 0s 4ms/step - loss: 0.0791 - accuracy: 0.9692 - recall_m: 0.9632 - precision_m: 0.9924 - val_loss: 0.0909 - val_accuracy: 0.9786 - val_recall_m: 0.9660 - val_precision_m: 1.0000\n",
      "Epoch 93/100\n",
      "33/33 [==============================] - 0s 4ms/step - loss: 0.0722 - accuracy: 0.9877 - recall_m: 0.9851 - precision_m: 0.9949 - val_loss: 0.0946 - val_accuracy: 0.9643 - val_recall_m: 0.9452 - val_precision_m: 1.0000\n",
      "Epoch 94/100\n",
      "33/33 [==============================] - 0s 4ms/step - loss: 0.0691 - accuracy: 0.9785 - recall_m: 0.9697 - precision_m: 1.0000 - val_loss: 0.0952 - val_accuracy: 0.9786 - val_recall_m: 0.9881 - val_precision_m: 0.9819\n",
      "Epoch 95/100\n",
      "33/33 [==============================] - 0s 4ms/step - loss: 0.0733 - accuracy: 0.9723 - recall_m: 0.9764 - precision_m: 0.9832 - val_loss: 0.0909 - val_accuracy: 0.9857 - val_recall_m: 0.9762 - val_precision_m: 1.0000\n",
      "Epoch 96/100\n",
      "33/33 [==============================] - 0s 4ms/step - loss: 0.0706 - accuracy: 0.9846 - recall_m: 0.9729 - precision_m: 1.0000 - val_loss: 0.0921 - val_accuracy: 0.9571 - val_recall_m: 0.9372 - val_precision_m: 1.0000\n",
      "Epoch 97/100\n",
      "33/33 [==============================] - 0s 4ms/step - loss: 0.0707 - accuracy: 0.9723 - recall_m: 0.9594 - precision_m: 0.9939 - val_loss: 0.0905 - val_accuracy: 0.9643 - val_recall_m: 0.9452 - val_precision_m: 1.0000\n",
      "Epoch 98/100\n",
      "33/33 [==============================] - 0s 4ms/step - loss: 0.0667 - accuracy: 0.9785 - recall_m: 0.9638 - precision_m: 1.0000 - val_loss: 0.0891 - val_accuracy: 0.9643 - val_recall_m: 0.9452 - val_precision_m: 1.0000\n",
      "Epoch 99/100\n",
      "33/33 [==============================] - 0s 4ms/step - loss: 0.0716 - accuracy: 0.9662 - recall_m: 0.9588 - precision_m: 0.9805 - val_loss: 0.0939 - val_accuracy: 0.9571 - val_recall_m: 0.9372 - val_precision_m: 1.0000\n",
      "Epoch 100/100\n",
      "33/33 [==============================] - 0s 4ms/step - loss: 0.0680 - accuracy: 0.9785 - recall_m: 0.9697 - precision_m: 0.9957 - val_loss: 0.0928 - val_accuracy: 0.9571 - val_recall_m: 0.9372 - val_precision_m: 1.0000\n"
     ]
    }
   ],
   "source": [
    "history = model.fit(X_train, y_train, epochs=100, batch_size=10, validation_data=(X_test, y_test))"
   ]
  },
  {
   "cell_type": "code",
   "execution_count": 183,
   "id": "f9a39b2f",
   "metadata": {},
   "outputs": [
    {
     "name": "stdout",
     "output_type": "stream",
     "text": [
      "5/5 [==============================] - 0s 3ms/step - loss: 0.0928 - accuracy: 0.9571 - recall_m: 0.9467 - precision_m: 1.0000\n"
     ]
    }
   ],
   "source": [
    "_, accuracy, recall, precision = model.evaluate(X_test, y_test)"
   ]
  },
  {
   "cell_type": "code",
   "execution_count": 184,
   "id": "f04e41c1",
   "metadata": {},
   "outputs": [
    {
     "name": "stdout",
     "output_type": "stream",
     "text": [
      "Accuracy: 95.71\n",
      "Recall: 94.67\n",
      "Precision: 100.00\n"
     ]
    }
   ],
   "source": [
    "print('Accuracy: %.2f' % (accuracy*100))\n",
    "print('Recall: %.2f' % (recall*100))\n",
    "print('Precision: %.2f' % (precision*100))"
   ]
  },
  {
   "cell_type": "code",
   "execution_count": 185,
   "id": "8071c654",
   "metadata": {},
   "outputs": [
    {
     "data": {
      "image/png": "[encoded data removed]",
      "text/plain": [
       "<Figure size 720x360 with 1 Axes>"
      ]
     },
     "metadata": {
      "needs_background": "light"
     },
     "output_type": "display_data"
    }
   ],
   "source": [
    "epochs = range(1, len(history.history[i]) + 1)\n",
    "plt.figure(figsize=(10,5))\n",
    "plt.plot(epochs, history.history['accuracy'])\n",
    "plt.plot(epochs, history.history['val_accuracy'])\n",
    "plt.ylim(0,1.1)\n",
    "plt.xlabel('Epoch')\n",
    "plt.ylabel('Accuracy')\n",
    "plt.title('ANN model Accuracy: Training and Testing')\n",
    "plt.legend(['training_accuracy', 'testing_accuracy'])\n",
    "plt.show()"
   ]
  },
  {
   "cell_type": "code",
   "execution_count": 186,
   "id": "dd119330",
   "metadata": {},
   "outputs": [
    {
     "data": {
      "image/png": "[encoded data removed]",
      "text/plain": [
       "<Figure size 720x360 with 1 Axes>"
      ]
     },
     "metadata": {
      "needs_background": "light"
     },
     "output_type": "display_data"
    }
   ],
   "source": [
    "plt.figure(figsize=(10,5))\n",
    "plt.plot(epochs, history.history['precision_m'])\n",
    "plt.plot(epochs, history.history['val_precision_m'])\n",
    "plt.legend(['training_precision', 'testing_precision'])\n",
    "plt.ylim(0,1.1)\n",
    "plt.xlabel('Epoch')\n",
    "plt.ylabel('Precision')\n",
    "plt.title('ANN model Precision: Training and Testing')\n",
    "plt.show()"
   ]
  },
  {
   "cell_type": "code",
   "execution_count": 187,
   "id": "d780d358",
   "metadata": {},
   "outputs": [
    {
     "data": {
      "image/png": "[encoded data removed]",
      "text/plain": [
       "<Figure size 720x360 with 1 Axes>"
      ]
     },
     "metadata": {
      "needs_background": "light"
     },
     "output_type": "display_data"
    }
   ],
   "source": [
    "plt.figure(figsize=(10,5))\n",
    "plt.plot(epochs, history.history['recall_m'])\n",
    "plt.plot(epochs, history.history['val_recall_m'])\n",
    "plt.legend(['training_recall', 'testing_recall'])\n",
    "plt.ylim(0,1.1)\n",
    "plt.xlabel('Epoch')\n",
    "plt.ylabel('Recall')\n",
    "plt.title('ANN model Recall: Training and Testing')\n",
    "plt.show()"
   ]
  },
  {
   "cell_type": "code",
   "execution_count": null,
   "id": "6f3b495d",
   "metadata": {},
   "outputs": [],
   "source": []
  },
  {
   "cell_type": "code",
   "execution_count": null,
   "id": "8e50845a",
   "metadata": {},
   "outputs": [],
   "source": []
  }
 ],
 "metadata": {
  "kernelspec": {
   "display_name": "Python 3 (ipykernel)",
   "language": "python",
   "name": "python3"
  },
  "language_info": {
   "codemirror_mode": {
    "name": "ipython",
    "version": 3
   },
   "file_extension": ".py",
   "mimetype": "text/x-python",
   "name": "python",
   "nbconvert_exporter": "python",
   "pygments_lexer": "ipython3",
   "version": "3.8.8"
  }
 },
 "nbformat": 4,
 "nbformat_minor": 5
}
